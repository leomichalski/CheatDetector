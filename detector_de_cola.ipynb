{
 "metadata": {
  "language_info": {
   "codemirror_mode": {
    "name": "ipython",
    "version": 3
   },
   "file_extension": ".py",
   "mimetype": "text/x-python",
   "name": "python",
   "nbconvert_exporter": "python",
   "pygments_lexer": "ipython3",
   "version": "3.9.1-final"
  },
  "orig_nbformat": 2,
  "kernelspec": {
   "name": "python3",
   "display_name": "Python 3",
   "language": "python"
  }
 },
 "nbformat": 4,
 "nbformat_minor": 2,
 "cells": [
  {
   "source": [
    "## Imports"
   ],
   "cell_type": "markdown",
   "metadata": {}
  },
  {
   "cell_type": "code",
   "execution_count": null,
   "metadata": {},
   "outputs": [],
   "source": [
    "# text similarity related imports\n",
    "from sentence_transformers import SentenceTransformer\n",
    "from sklearn.metrics.pairwise import cosine_similarity\n",
    "\n",
    "# plotting related imports\n",
    "import matplotlib.pyplot as plt\n",
    "import networkx as nx\n",
    "\n",
    "# jupyter voila related\n",
    "import ipywidgets\n",
    "# from ipywidgets import HBox, VBox, IntSlider, interactive_output\n",
    "from IPython.display import display"
   ]
  },
  {
   "source": [
    "## Base class declaration"
   ],
   "cell_type": "markdown",
   "metadata": {}
  },
  {
   "cell_type": "code",
   "execution_count": null,
   "metadata": {},
   "outputs": [],
   "source": [
    "class DetectorDeCola():\n",
    "\n",
    "    def __init__(self, color=(0, 0, 1), node_color='orange',\n",
    "                 transformer_name='distiluse-base-multilingual-cased'):\n",
    "        self.color = color\n",
    "        self.node_color = node_color\n",
    "        self.sbert_model = SentenceTransformer(transformer_name)\n",
    "\n",
    "    def create_sim_matrix(self, answers):\n",
    "        embeddings = self.sbert_model.encode(answers)\n",
    "        return cosine_similarity(embeddings)\n",
    "\n",
    "    def generate_manual_graph(self, sim_matrix, threshold):\n",
    "        graph = {}\n",
    "        for i in range(sim_matrix.shape[0]):\n",
    "            for j in range(sim_matrix.shape[1]):\n",
    "                if j <= i:\n",
    "                    continue\n",
    "                if sim_matrix[i][j] <= threshold:\n",
    "                    continue\n",
    "                similarity = sim_matrix[i][j]\n",
    "                edge_attr = {\n",
    "                    'color': (*self.color, min(1, (similarity-threshold)*(1/threshold))),\n",
    "                    'length': max(0, 100-(similarity*100)),\n",
    "                    'width': similarity*10,\n",
    "                    'edge_label': str(round(similarity*100)) + '%'\n",
    "                }\n",
    "                if i+1 not in graph:\n",
    "                    graph[i+1] = {}\n",
    "                if j+1 not in graph:\n",
    "                    graph[j+1] = {}\n",
    "                graph[i+1][j+1] = edge_attr\n",
    "                graph[j+1][i+1] = edge_attr\n",
    "        return graph\n",
    "\n",
    "    def generate_edge_labels(self, graph):\n",
    "        edge_labels = {}\n",
    "        for i in graph.items():\n",
    "            for j in i[1].items():\n",
    "                edge_labels[(i[0], j[0])] = j[1]['edge_label']\n",
    "        return edge_labels\n",
    "\n",
    "    def plot_single_graph(self, graph, edge_labels):\n",
    "        graph_nx = nx.from_dict_of_dicts(graph)\n",
    "        pos = nx.planar_layout(graph_nx)\n",
    "        nx.draw(\n",
    "            graph_nx, pos, \n",
    "            node_size=1000,\n",
    "            edge_color=nx.get_edge_attributes(graph_nx, 'color').values(), \n",
    "            width=list(nx.get_edge_attributes(graph_nx, 'width').values()),\n",
    "            with_labels=True,\n",
    "            node_color=self.node_color\n",
    "        )\n",
    "        nx.draw_networkx_edge_labels(\n",
    "            graph_nx, pos, edge_labels=edge_labels\n",
    "        )\n",
    "        plt.show()\n",
    "\n",
    "    def plot_all_questions_graphs(questions):\n",
    "        for question in questions:\n",
    "            sim_matrix = self.create_sim_matrix(question)\n",
    "            graph = self.generate_manual_graph(sim_matrix)\n",
    "            edge_labels = self.generate_edge_labels(graph)\n",
    "            self.plot_single_graph(graph, edge_labels)\n"
   ]
  },
  {
   "cell_type": "code",
   "execution_count": null,
   "metadata": {},
   "outputs": [],
   "source": [
    "question_1_answers = [\n",
    "    'Napoleão morreu de ataque cardíaco em setembro, e por isso ele perdeu a guerra',\n",
    "    'Napoleão morreu de ataque cardíaco em setembro, e por isso ele perdeu a guerra',\n",
    "    'Napoles é uma cidade legal na itália onde napoleão passou férias',\n",
    "    'Napoles é uma cidade legal na itália onde napoleão passou férias',\n",
    "    'Napoleão morreu de infarto em setembro, e por isso ele ganhou a guerra',\n",
    "]"
   ]
  },
  {
   "cell_type": "code",
   "execution_count": null,
   "metadata": {},
   "outputs": [],
   "source": [
    "question_options = [i+1 for i in list(range(len(question_1_answers)))]\n",
    "question_slider = ipywidgets.SelectMultiple(\n",
    "    options=question_options,\n",
    "    value=question_options,  # default value\n",
    "    disabled=False\n",
    ")\n",
    "threshold_slider = ipywidgets.FloatSlider(value=0.5, min=0, max=1, step=0.05)"
   ]
  },
  {
   "cell_type": "code",
   "execution_count": null,
   "metadata": {},
   "outputs": [],
   "source": [
    "threshold_slider"
   ]
  },
  {
   "cell_type": "code",
   "execution_count": null,
   "metadata": {},
   "outputs": [],
   "source": [
    "question_slider"
   ]
  },
  {
   "cell_type": "code",
   "execution_count": null,
   "metadata": {},
   "outputs": [],
   "source": [
    "detector_de_cola = DetectorDeCola()\n",
    "sim_matrix = detector_de_cola.create_sim_matrix(question_1_answers)\n",
    "graph = detector_de_cola.generate_manual_graph(sim_matrix, threshold=threshold_slider.value)\n",
    "edge_labels = detector_de_cola.generate_edge_labels(graph)\n",
    "detector_de_cola.plot_single_graph(graph, edge_labels)"
   ]
  }
 ]
}