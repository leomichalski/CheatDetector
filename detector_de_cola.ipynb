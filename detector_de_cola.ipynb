{
 "metadata": {
  "language_info": {
   "codemirror_mode": {
    "name": "ipython",
    "version": 3
   },
   "file_extension": ".py",
   "mimetype": "text/x-python",
   "name": "python",
   "nbconvert_exporter": "python",
   "pygments_lexer": "ipython3",
   "version": "3.9.1-final"
  },
  "orig_nbformat": 2,
  "kernelspec": {
   "name": "python3",
   "display_name": "Python 3",
   "language": "python"
  }
 },
 "nbformat": 4,
 "nbformat_minor": 2,
 "cells": [
  {
   "source": [
    "## Imports"
   ],
   "cell_type": "markdown",
   "metadata": {}
  },
  {
   "cell_type": "code",
   "execution_count": null,
   "metadata": {},
   "outputs": [],
   "source": [
    "from sentence_transformers import SentenceTransformer\n",
    "from sklearn.metrics.pairwise import cosine_similarity\n",
    "import pandas as pd"
   ]
  },
  {
   "source": [
    "## Instanciando o modelo"
   ],
   "cell_type": "markdown",
   "metadata": {}
  },
  {
   "cell_type": "code",
   "execution_count": null,
   "metadata": {},
   "outputs": [],
   "source": [
    "sbert_model = SentenceTransformer('distiluse-base-multilingual-cased')\n",
    "sbert_model"
   ]
  },
  {
   "source": [
    "## Definindo caso de teste"
   ],
   "cell_type": "markdown",
   "metadata": {}
  },
  {
   "cell_type": "code",
   "execution_count": null,
   "metadata": {},
   "outputs": [],
   "source": [
    "documents = ['Napoleão morreu de ataque cardíaco em setembro, e por isso ele perdeu a guerra',\n",
    "'Napoles é uma cidade legal na itália onde napoleão passou férias',\n",
    "'Napoleão morreu de infarto em setembro, e por isso ele ganhou a guerra', \n",
    "]\n",
    "\n",
    "documents_df=pd.DataFrame(documents,columns=['documents'])"
   ]
  },
  {
   "cell_type": "code",
   "execution_count": null,
   "metadata": {},
   "outputs": [],
   "source": [
    "list(documents_df['documents'])"
   ]
  },
  {
   "source": [
    "## Codificando as frases"
   ],
   "cell_type": "markdown",
   "metadata": {}
  },
  {
   "cell_type": "code",
   "execution_count": null,
   "metadata": {},
   "outputs": [],
   "source": [
    "document_embeddings = sbert_model.encode(documents_df['documents'])\n",
    "document_embeddings"
   ]
  },
  {
   "source": [
    "## Matriz de adjacencias ou matriz de similaridade"
   ],
   "cell_type": "markdown",
   "metadata": {}
  },
  {
   "cell_type": "code",
   "execution_count": null,
   "metadata": {},
   "outputs": [],
   "source": [
    "sim_matrix = cosine_similarity(document_embeddings)\n",
    "sim_matrix"
   ]
  },
  {
   "source": [
    "## Selecionando os elementos acima da diagonal principal e filtrando"
   ],
   "cell_type": "markdown",
   "metadata": {}
  },
  {
   "cell_type": "code",
   "execution_count": null,
   "metadata": {},
   "outputs": [],
   "source": [
    "sim_matrix = (sim_matrix > 0.5) * sim_matrix\n",
    "array = []\n",
    "\n",
    "for i in range(sim_matrix.shape[0]):\n",
    "  for j in range(sim_matrix.shape[1]):\n",
    "    if j > i:\n",
    "      if sim_matrix[i][j] != 0.0:\n",
    "        array.append({'pair': [i+1, j+1], 'similarity': sim_matrix[i][j]})\n",
    "\n",
    "array"
   ]
  },
  {
   "cell_type": "code",
   "execution_count": null,
   "metadata": {},
   "outputs": [],
   "source": []
  }
 ]
}