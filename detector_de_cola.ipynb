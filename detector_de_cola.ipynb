{
  "nbformat": 4,
  "nbformat_minor": 0,
  "metadata": {
    "colab": {
      "name": "detector_de_cola.ipynb",
      "provenance": [],
      "collapsed_sections": []
    },
    "kernelspec": {
      "display_name": "Python 3",
      "language": "python",
      "name": "python3"
    },
    "language_info": {
      "codemirror_mode": {
        "name": "ipython",
        "version": 3
      },
      "file_extension": ".py",
      "mimetype": "text/x-python",
      "name": "python",
      "nbconvert_exporter": "python",
      "pygments_lexer": "ipython3",
      "version": "3.9.1-final"
    },
    "widgets": {
      "application/vnd.jupyter.widget-state+json": {
        "b170c5be8c4b457cb6bc2da0b27dc322": {
          "model_module": "@jupyter-widgets/controls",
          "model_name": "FileUploadModel",
          "state": {
            "_view_name": "FileUploadView",
            "_counter": 1,
            "style": "IPY_MODEL_92bea3c438364b47b0c7ee154b150135",
            "_dom_classes": [],
            "description": "Upload",
            "multiple": false,
            "_model_name": "FileUploadModel",
            "data": [
              null
            ],
            "button_style": "",
            "_view_module": "@jupyter-widgets/controls",
            "_model_module_version": "1.5.0",
            "accept": "",
            "_view_count": null,
            "disabled": false,
            "_view_module_version": "1.5.0",
            "error": "",
            "description_tooltip": null,
            "metadata": [
              {
                "name": "teste_linha.zip",
                "type": "application/x-zip-compressed",
                "size": 711,
                "lastModified": 1613857477937
              }
            ],
            "_model_module": "@jupyter-widgets/controls",
            "layout": "IPY_MODEL_803aa01f24fd4c72826da4a3c6b0e085",
            "icon": "upload"
          }
        },
        "92bea3c438364b47b0c7ee154b150135": {
          "model_module": "@jupyter-widgets/controls",
          "model_name": "ButtonStyleModel",
          "state": {
            "_view_name": "StyleView",
            "_model_name": "ButtonStyleModel",
            "_view_module": "@jupyter-widgets/base",
            "_model_module_version": "1.5.0",
            "_view_count": null,
            "button_color": null,
            "font_weight": "",
            "_view_module_version": "1.2.0",
            "_model_module": "@jupyter-widgets/controls"
          }
        },
        "803aa01f24fd4c72826da4a3c6b0e085": {
          "model_module": "@jupyter-widgets/base",
          "model_name": "LayoutModel",
          "state": {
            "_view_name": "LayoutView",
            "grid_template_rows": null,
            "right": null,
            "justify_content": null,
            "_view_module": "@jupyter-widgets/base",
            "overflow": null,
            "_model_module_version": "1.2.0",
            "_view_count": null,
            "flex_flow": null,
            "width": null,
            "min_width": null,
            "border": null,
            "align_items": null,
            "bottom": null,
            "_model_module": "@jupyter-widgets/base",
            "top": null,
            "grid_column": null,
            "overflow_y": null,
            "overflow_x": null,
            "grid_auto_flow": null,
            "grid_area": null,
            "grid_template_columns": null,
            "flex": null,
            "_model_name": "LayoutModel",
            "justify_items": null,
            "grid_row": null,
            "max_height": null,
            "align_content": null,
            "visibility": null,
            "align_self": null,
            "height": null,
            "min_height": null,
            "padding": null,
            "grid_auto_rows": null,
            "grid_gap": null,
            "max_width": null,
            "order": null,
            "_view_module_version": "1.2.0",
            "grid_template_areas": null,
            "object_position": null,
            "object_fit": null,
            "grid_auto_columns": null,
            "margin": null,
            "display": null,
            "left": null
          }
        },
        "7293b2361bdb4b47888b03bfdeaf4aee": {
          "model_module": "@jupyter-widgets/output",
          "model_name": "OutputModel",
          "state": {
            "_view_name": "OutputView",
            "msg_id": "",
            "_dom_classes": [],
            "_model_name": "OutputModel",
            "outputs": [
              {
                "output_type": "display_data",
                "metadata": {
                  "tags": []
                },
                "application/vnd.jupyter.widget-view+json": {
                  "model_id": "96c20c3fd8e545ac843bc15e694c261f",
                  "version_minor": 0,
                  "version_major": 2
                },
                "text/plain": "FloatSlider(value=0.5, max=1.0, step=0.05)"
              }
            ],
            "_view_module": "@jupyter-widgets/output",
            "_model_module_version": "1.0.0",
            "_view_count": null,
            "_view_module_version": "1.0.0",
            "layout": "IPY_MODEL_963eb671aace4fa4ab75939cb751a310",
            "_model_module": "@jupyter-widgets/output"
          }
        },
        "963eb671aace4fa4ab75939cb751a310": {
          "model_module": "@jupyter-widgets/base",
          "model_name": "LayoutModel",
          "state": {
            "_view_name": "LayoutView",
            "grid_template_rows": null,
            "right": null,
            "justify_content": null,
            "_view_module": "@jupyter-widgets/base",
            "overflow": null,
            "_model_module_version": "1.2.0",
            "_view_count": null,
            "flex_flow": null,
            "width": null,
            "min_width": null,
            "border": null,
            "align_items": null,
            "bottom": null,
            "_model_module": "@jupyter-widgets/base",
            "top": null,
            "grid_column": null,
            "overflow_y": null,
            "overflow_x": null,
            "grid_auto_flow": null,
            "grid_area": null,
            "grid_template_columns": null,
            "flex": null,
            "_model_name": "LayoutModel",
            "justify_items": null,
            "grid_row": null,
            "max_height": null,
            "align_content": null,
            "visibility": null,
            "align_self": null,
            "height": null,
            "min_height": null,
            "padding": null,
            "grid_auto_rows": null,
            "grid_gap": null,
            "max_width": null,
            "order": null,
            "_view_module_version": "1.2.0",
            "grid_template_areas": null,
            "object_position": null,
            "object_fit": null,
            "grid_auto_columns": null,
            "margin": null,
            "display": null,
            "left": null
          }
        },
        "96c20c3fd8e545ac843bc15e694c261f": {
          "model_module": "@jupyter-widgets/controls",
          "model_name": "FloatSliderModel",
          "state": {
            "_view_name": "FloatSliderView",
            "style": "IPY_MODEL_08a74369b0b2421da7c17478509d1955",
            "_dom_classes": [],
            "description": "",
            "step": 0.05,
            "_model_name": "FloatSliderModel",
            "orientation": "horizontal",
            "max": 1,
            "_view_module": "@jupyter-widgets/controls",
            "_model_module_version": "1.5.0",
            "value": 0,
            "_view_count": null,
            "disabled": false,
            "_view_module_version": "1.5.0",
            "min": 0,
            "continuous_update": true,
            "readout_format": ".2f",
            "description_tooltip": null,
            "readout": true,
            "_model_module": "@jupyter-widgets/controls",
            "layout": "IPY_MODEL_a9146ee0e9e84c27a36d6b8cffd3a4e4"
          }
        },
        "08a74369b0b2421da7c17478509d1955": {
          "model_module": "@jupyter-widgets/controls",
          "model_name": "SliderStyleModel",
          "state": {
            "_view_name": "StyleView",
            "handle_color": null,
            "_model_name": "SliderStyleModel",
            "description_width": "",
            "_view_module": "@jupyter-widgets/base",
            "_model_module_version": "1.5.0",
            "_view_count": null,
            "_view_module_version": "1.2.0",
            "_model_module": "@jupyter-widgets/controls"
          }
        },
        "a9146ee0e9e84c27a36d6b8cffd3a4e4": {
          "model_module": "@jupyter-widgets/base",
          "model_name": "LayoutModel",
          "state": {
            "_view_name": "LayoutView",
            "grid_template_rows": null,
            "right": null,
            "justify_content": null,
            "_view_module": "@jupyter-widgets/base",
            "overflow": null,
            "_model_module_version": "1.2.0",
            "_view_count": null,
            "flex_flow": null,
            "width": null,
            "min_width": null,
            "border": null,
            "align_items": null,
            "bottom": null,
            "_model_module": "@jupyter-widgets/base",
            "top": null,
            "grid_column": null,
            "overflow_y": null,
            "overflow_x": null,
            "grid_auto_flow": null,
            "grid_area": null,
            "grid_template_columns": null,
            "flex": null,
            "_model_name": "LayoutModel",
            "justify_items": null,
            "grid_row": null,
            "max_height": null,
            "align_content": null,
            "visibility": null,
            "align_self": null,
            "height": null,
            "min_height": null,
            "padding": null,
            "grid_auto_rows": null,
            "grid_gap": null,
            "max_width": null,
            "order": null,
            "_view_module_version": "1.2.0",
            "grid_template_areas": null,
            "object_position": null,
            "object_fit": null,
            "grid_auto_columns": null,
            "margin": null,
            "display": null,
            "left": null
          }
        },
        "5f90b43d56f0436d969740b38e258369": {
          "model_module": "@jupyter-widgets/output",
          "model_name": "OutputModel",
          "state": {
            "_view_name": "OutputView",
            "msg_id": "",
            "_dom_classes": [],
            "_model_name": "OutputModel",
            "outputs": [
              {
                "output_type": "display_data",
                "metadata": {
                  "tags": []
                },
                "application/vnd.jupyter.widget-view+json": {
                  "model_id": "a2ebe16377004c37b45a5272815110f7",
                  "version_minor": 0,
                  "version_major": 2
                },
                "text/plain": "SelectMultiple(index=(0, 1, 2), options=(1, 2, 3), value=(1, 2, 3))"
              }
            ],
            "_view_module": "@jupyter-widgets/output",
            "_model_module_version": "1.0.0",
            "_view_count": null,
            "_view_module_version": "1.0.0",
            "layout": "IPY_MODEL_d173f862e64148a49c7fc3ebff8ecbae",
            "_model_module": "@jupyter-widgets/output"
          }
        },
        "d173f862e64148a49c7fc3ebff8ecbae": {
          "model_module": "@jupyter-widgets/base",
          "model_name": "LayoutModel",
          "state": {
            "_view_name": "LayoutView",
            "grid_template_rows": null,
            "right": null,
            "justify_content": null,
            "_view_module": "@jupyter-widgets/base",
            "overflow": null,
            "_model_module_version": "1.2.0",
            "_view_count": null,
            "flex_flow": null,
            "width": null,
            "min_width": null,
            "border": null,
            "align_items": null,
            "bottom": null,
            "_model_module": "@jupyter-widgets/base",
            "top": null,
            "grid_column": null,
            "overflow_y": null,
            "overflow_x": null,
            "grid_auto_flow": null,
            "grid_area": null,
            "grid_template_columns": null,
            "flex": null,
            "_model_name": "LayoutModel",
            "justify_items": null,
            "grid_row": null,
            "max_height": null,
            "align_content": null,
            "visibility": null,
            "align_self": null,
            "height": null,
            "min_height": null,
            "padding": null,
            "grid_auto_rows": null,
            "grid_gap": null,
            "max_width": null,
            "order": null,
            "_view_module_version": "1.2.0",
            "grid_template_areas": null,
            "object_position": null,
            "object_fit": null,
            "grid_auto_columns": null,
            "margin": null,
            "display": null,
            "left": null
          }
        },
        "a2ebe16377004c37b45a5272815110f7": {
          "model_module": "@jupyter-widgets/controls",
          "model_name": "SelectMultipleModel",
          "state": {
            "_options_labels": [
              "1",
              "2",
              "3"
            ],
            "_view_name": "SelectMultipleView",
            "style": "IPY_MODEL_44414bcf593b47aab0b28ef60e1e5022",
            "rows": 5,
            "_dom_classes": [],
            "description": "",
            "_model_name": "SelectMultipleModel",
            "index": [
              0
            ],
            "_view_module": "@jupyter-widgets/controls",
            "_model_module_version": "1.5.0",
            "_view_count": null,
            "disabled": false,
            "_view_module_version": "1.5.0",
            "description_tooltip": null,
            "_model_module": "@jupyter-widgets/controls",
            "layout": "IPY_MODEL_6ca1d7f30f1e4dd1b5b91ff015d3fe61"
          }
        },
        "44414bcf593b47aab0b28ef60e1e5022": {
          "model_module": "@jupyter-widgets/controls",
          "model_name": "DescriptionStyleModel",
          "state": {
            "_view_name": "StyleView",
            "_model_name": "DescriptionStyleModel",
            "description_width": "",
            "_view_module": "@jupyter-widgets/base",
            "_model_module_version": "1.5.0",
            "_view_count": null,
            "_view_module_version": "1.2.0",
            "_model_module": "@jupyter-widgets/controls"
          }
        },
        "6ca1d7f30f1e4dd1b5b91ff015d3fe61": {
          "model_module": "@jupyter-widgets/base",
          "model_name": "LayoutModel",
          "state": {
            "_view_name": "LayoutView",
            "grid_template_rows": null,
            "right": null,
            "justify_content": null,
            "_view_module": "@jupyter-widgets/base",
            "overflow": null,
            "_model_module_version": "1.2.0",
            "_view_count": null,
            "flex_flow": null,
            "width": null,
            "min_width": null,
            "border": null,
            "align_items": null,
            "bottom": null,
            "_model_module": "@jupyter-widgets/base",
            "top": null,
            "grid_column": null,
            "overflow_y": null,
            "overflow_x": null,
            "grid_auto_flow": null,
            "grid_area": null,
            "grid_template_columns": null,
            "flex": null,
            "_model_name": "LayoutModel",
            "justify_items": null,
            "grid_row": null,
            "max_height": null,
            "align_content": null,
            "visibility": null,
            "align_self": null,
            "height": null,
            "min_height": null,
            "padding": null,
            "grid_auto_rows": null,
            "grid_gap": null,
            "max_width": null,
            "order": null,
            "_view_module_version": "1.2.0",
            "grid_template_areas": null,
            "object_position": null,
            "object_fit": null,
            "grid_auto_columns": null,
            "margin": null,
            "display": null,
            "left": null
          }
        },
        "a2160a9f39ab4b3594016e20fe55d1a7": {
          "model_module": "@jupyter-widgets/output",
          "model_name": "OutputModel",
          "state": {
            "_view_name": "OutputView",
            "msg_id": "",
            "_dom_classes": [],
            "_model_name": "OutputModel",
            "outputs": [
              {
                "output_type": "display_data",
                "metadata": {
                  "tags": []
                },
                "image/png": "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\n",
                "text/plain": "<Figure size 432x288 with 1 Axes>"
              }
            ],
            "_view_module": "@jupyter-widgets/output",
            "_model_module_version": "1.0.0",
            "_view_count": null,
            "_view_module_version": "1.0.0",
            "layout": "IPY_MODEL_9f4d4243a3284990bad91414147d1aeb",
            "_model_module": "@jupyter-widgets/output"
          }
        },
        "9f4d4243a3284990bad91414147d1aeb": {
          "model_module": "@jupyter-widgets/base",
          "model_name": "LayoutModel",
          "state": {
            "_view_name": "LayoutView",
            "grid_template_rows": null,
            "right": null,
            "justify_content": null,
            "_view_module": "@jupyter-widgets/base",
            "overflow": null,
            "_model_module_version": "1.2.0",
            "_view_count": null,
            "flex_flow": null,
            "width": null,
            "min_width": null,
            "border": null,
            "align_items": null,
            "bottom": null,
            "_model_module": "@jupyter-widgets/base",
            "top": null,
            "grid_column": null,
            "overflow_y": null,
            "overflow_x": null,
            "grid_auto_flow": null,
            "grid_area": null,
            "grid_template_columns": null,
            "flex": null,
            "_model_name": "LayoutModel",
            "justify_items": null,
            "grid_row": null,
            "max_height": null,
            "align_content": null,
            "visibility": null,
            "align_self": null,
            "height": null,
            "min_height": null,
            "padding": null,
            "grid_auto_rows": null,
            "grid_gap": null,
            "max_width": null,
            "order": null,
            "_view_module_version": "1.2.0",
            "grid_template_areas": null,
            "object_position": null,
            "object_fit": null,
            "grid_auto_columns": null,
            "margin": null,
            "display": null,
            "left": null
          }
        }
      }
    }
  },
  "cells": [
    {
      "cell_type": "code",
      "metadata": {
        "id": "OzYzwgzL2KP2"
      },
      "source": [
        "from detector_de_cola import DetectorDeCola\n",
        "import numpy as np\n",
        "\n",
        "from IPython.display import clear_output, display\n",
        "import ipywidgets\n",
        "import zipfile\n",
        "import io"
      ],
      "execution_count": null,
      "outputs": []
    },
    {
      "cell_type": "code",
      "metadata": {
        "id": "5jhJMI6Fi_xB"
      },
      "source": [
        "detector_de_cola = DetectorDeCola()"
      ],
      "execution_count": null,
      "outputs": []
    },
    {
      "cell_type": "code",
      "metadata": {
        "id": "vu3X-2Ps8Sk-"
      },
      "source": [
        "file_upload_button = ipywidgets.FileUpload()"
      ],
      "execution_count": null,
      "outputs": []
    },
    {
      "cell_type": "code",
      "metadata": {
        "id": "Z-OUcYEcBdvj"
      },
      "source": [
        "class ThresholdSlider(object):\n",
        "\n",
        "    def __init__(self):\n",
        "        self.widget = ipywidgets.FloatSlider(\n",
        "            value=0.5,  # default value\n",
        "            min=0, max=1, step=0.05\n",
        "        )\n",
        "        self.output = ipywidgets.Output()\n",
        "        self.has_been_instantiated = False\n",
        "\n",
        "    def display(self):\n",
        "        if self.has_been_instantiated:\n",
        "            # with threshold_slider.output:\n",
        "            #     clear_output(True)\n",
        "            #     display(threshold_slider.widget)\n",
        "            with self.output:\n",
        "                clear_output(True)\n",
        "                display(self.widget)\n",
        "        else:\n",
        "            # display(threshold_slider.output)\n",
        "            display(self.output)\n",
        "            self.has_been_instantiated = True\n",
        "\n",
        "threshold_slider = ThresholdSlider()"
      ],
      "execution_count": null,
      "outputs": []
    },
    {
      "cell_type": "code",
      "metadata": {
        "id": "EXgHK5R2BZKR"
      },
      "source": [
        "class WhichQuestionsWidget(object):\n",
        "\n",
        "    def __init__(self):\n",
        "        self.widget = self.create_widget(1, None, None)\n",
        "        self.output = ipywidgets.Output()\n",
        "        self.has_been_instantiated = False\n",
        "\n",
        "    def observe(self, function, names):\n",
        "        self.function_to_observe = function\n",
        "        self.names_to_observe = names\n",
        "\n",
        "    def create_widget(self, question_quantity, function_to_observe, names_to_observe):\n",
        "        which_questions = [i+1 for i in range(question_quantity)]\n",
        "        widget = ipywidgets.SelectMultiple(\n",
        "            options=which_questions,\n",
        "            value=which_questions,  # default value\n",
        "            disabled=False\n",
        "        )\n",
        "        widget.observe(function_to_observe, names_to_observe)\n",
        "        return widget\n",
        "\n",
        "    def display(self, question_quantity):\n",
        "        if self.has_been_instantiated:\n",
        "            self.widget = self.create_widget(\n",
        "                question_quantity, self.function_to_observe, self.names_to_observe\n",
        "            )\n",
        "            with self.output:\n",
        "                clear_output(True)\n",
        "                display(self.widget)\n",
        "        else:\n",
        "            display(self.output)\n",
        "            self.has_been_instantiated = True\n",
        "\n",
        "\n",
        "which_questions_widget = WhichQuestionsWidget()"
      ],
      "execution_count": null,
      "outputs": []
    },
    {
      "cell_type": "code",
      "metadata": {
        "id": "ph1gvnDQIuc3"
      },
      "source": [
        "closest_students_plot = ipywidgets.Output()"
      ],
      "execution_count": null,
      "outputs": []
    },
    {
      "cell_type": "markdown",
      "metadata": {
        "id": "xo2xTQk18cxH"
      },
      "source": [
        "### TODO\n",
        "lembrar da questão em branco\n"
      ]
    },
    {
      "cell_type": "code",
      "metadata": {
        "colab": {
          "base_uri": "https://localhost:8080/",
          "height": 49,
          "referenced_widgets": [
            "b170c5be8c4b457cb6bc2da0b27dc322",
            "92bea3c438364b47b0c7ee154b150135",
            "803aa01f24fd4c72826da4a3c6b0e085"
          ]
        },
        "id": "z4J-EjAK8bkx",
        "outputId": "5e55026e-1958-47b0-9d48-447d93b09720"
      },
      "source": [
        "display(file_upload_button)"
      ],
      "execution_count": null,
      "outputs": [
        {
          "output_type": "display_data",
          "data": {
            "application/vnd.jupyter.widget-view+json": {
              "model_id": "b170c5be8c4b457cb6bc2da0b27dc322",
              "version_minor": 0,
              "version_major": 2
            },
            "text/plain": [
              "FileUpload(value={}, description='Upload')"
            ]
          },
          "metadata": {
            "tags": []
          }
        }
      ]
    },
    {
      "cell_type": "markdown",
      "metadata": {
        "id": "vbFf3z7mC0a0"
      },
      "source": [
        "### Threshold Similarity"
      ]
    },
    {
      "cell_type": "code",
      "metadata": {
        "colab": {
          "base_uri": "https://localhost:8080/",
          "height": 49,
          "referenced_widgets": [
            "7293b2361bdb4b47888b03bfdeaf4aee",
            "963eb671aace4fa4ab75939cb751a310",
            "96c20c3fd8e545ac843bc15e694c261f",
            "08a74369b0b2421da7c17478509d1955",
            "a9146ee0e9e84c27a36d6b8cffd3a4e4"
          ]
        },
        "id": "nzIFHL3MCljM",
        "outputId": "717fc2a8-2e95-4120-c308-5c5ef206de84"
      },
      "source": [
        "threshold_slider.display()"
      ],
      "execution_count": null,
      "outputs": [
        {
          "output_type": "display_data",
          "data": {
            "application/vnd.jupyter.widget-view+json": {
              "model_id": "7293b2361bdb4b47888b03bfdeaf4aee",
              "version_minor": 0,
              "version_major": 2
            },
            "text/plain": [
              "Output()"
            ]
          },
          "metadata": {
            "tags": []
          }
        }
      ]
    },
    {
      "cell_type": "markdown",
      "metadata": {
        "id": "2mFHKDkTC1x5"
      },
      "source": [
        "### Which questions should be considered?"
      ]
    },
    {
      "cell_type": "code",
      "metadata": {
        "colab": {
          "base_uri": "https://localhost:8080/",
          "height": 111,
          "referenced_widgets": [
            "5f90b43d56f0436d969740b38e258369",
            "d173f862e64148a49c7fc3ebff8ecbae",
            "a2ebe16377004c37b45a5272815110f7",
            "44414bcf593b47aab0b28ef60e1e5022",
            "6ca1d7f30f1e4dd1b5b91ff015d3fe61"
          ]
        },
        "id": "hc238LG0CxVw",
        "outputId": "b44559f9-a96c-4011-86a4-ae561f13c8a1"
      },
      "source": [
        "which_questions_widget.display(question_quantity=1)"
      ],
      "execution_count": null,
      "outputs": [
        {
          "output_type": "display_data",
          "data": {
            "application/vnd.jupyter.widget-view+json": {
              "model_id": "5f90b43d56f0436d969740b38e258369",
              "version_minor": 0,
              "version_major": 2
            },
            "text/plain": [
              "Output()"
            ]
          },
          "metadata": {
            "tags": []
          }
        }
      ]
    },
    {
      "cell_type": "markdown",
      "metadata": {
        "id": "ZD5AickFC74b"
      },
      "source": [
        "### Closest Answers Graph"
      ]
    },
    {
      "cell_type": "code",
      "metadata": {
        "colab": {
          "base_uri": "https://localhost:8080/",
          "height": 319,
          "referenced_widgets": [
            "a2160a9f39ab4b3594016e20fe55d1a7",
            "9f4d4243a3284990bad91414147d1aeb"
          ]
        },
        "id": "qZMbvZaEC7RD",
        "outputId": "43a2e612-2cac-49ba-fe3a-0b852ef50f85"
      },
      "source": [
        "display(closest_students_plot)"
      ],
      "execution_count": null,
      "outputs": [
        {
          "output_type": "display_data",
          "data": {
            "application/vnd.jupyter.widget-view+json": {
              "model_id": "a2160a9f39ab4b3594016e20fe55d1a7",
              "version_minor": 0,
              "version_major": 2
            },
            "text/plain": [
              "Output()"
            ]
          },
          "metadata": {
            "tags": []
          }
        }
      ]
    },
    {
      "cell_type": "code",
      "metadata": {
        "id": "llyC3Lnn43ub"
      },
      "source": [
        "def plot_graph(unuseful_arg):\n",
        "    global output\n",
        "    threshold = threshold_slider.widget.value\n",
        "    selected_questions = np.asarray(which_questions_widget.widget.value)\n",
        "\n",
        "    if selected_questions.shape[0] <= 0:\n",
        "        return\n",
        "\n",
        "    mean_sim_matrix = np.mean(\n",
        "        np.take(\n",
        "            sim_matrix_list,\n",
        "            indices=selected_questions-1,\n",
        "            axis=0\n",
        "        ),\n",
        "        axis=0\n",
        "    )\n",
        "\n",
        "    closest_answers_graph = detector_de_cola.sim_matrix_to_closest_answers(\n",
        "        mean_sim_matrix, threshold\n",
        "    )\n",
        "\n",
        "    with closest_students_plot:\n",
        "        clear_output(True)\n",
        "        detector_de_cola.plot_closest_answers(\n",
        "            closest_answers_graph\n",
        "        )"
      ],
      "execution_count": null,
      "outputs": []
    },
    {
      "cell_type": "code",
      "metadata": {
        "id": "8DzIfgm8yNsX"
      },
      "source": [
        "def on_zip_upload(unuseful_arg):\n",
        "    global sim_matrix_list, name_list, exam_list, question_answers_list, zip_file\n",
        "    zip_bytes = file_upload_button.data[-1]\n",
        "    zip_file = zipfile.ZipFile(io.BytesIO(zip_bytes), mode=\"r\",)\n",
        "\n",
        "    filename_list = zip_file.namelist()\n",
        "    exam_list = np.asarray([[i.decode() for i in zip_file.read(filename).splitlines() if i != b''] \n",
        "                            for filename in filename_list if '.txt' ==  filename[-4:]])\n",
        "    zip_file.close()\n",
        "\n",
        "    name_list = [filename.replace('.txt', '') for filename in filename_list]\n",
        "    question_answers_list = exam_list.T\n",
        "\n",
        "    sim_matrix_list = np.asarray(\n",
        "        [detector_de_cola.predict_sim_matrix(question_answers)\n",
        "        for question_answers in question_answers_list]\n",
        "    )\n",
        "\n",
        "    # plot graph for the first time\n",
        "    plot_graph(unuseful_arg=None)\n",
        "\n",
        "    threshold_slider.display()\n",
        "    which_questions_widget.display(\n",
        "        question_quantity=len(sim_matrix_list)\n",
        "    )\n"
      ],
      "execution_count": null,
      "outputs": []
    },
    {
      "cell_type": "code",
      "metadata": {
        "id": "B_gmlF0VG-T9"
      },
      "source": [
        "file_upload_button.observe(on_zip_upload, names=['data'])\n",
        "threshold_slider.widget.observe(plot_graph, names='value')\n",
        "which_questions_widget.observe(plot_graph, names='value')"
      ],
      "execution_count": null,
      "outputs": []
    },
    {
      "cell_type": "code",
      "metadata": {
        "id": "7FTJW3hQg2HG"
      },
      "source": [
        ""
      ],
      "execution_count": null,
      "outputs": []
    }
  ]
}