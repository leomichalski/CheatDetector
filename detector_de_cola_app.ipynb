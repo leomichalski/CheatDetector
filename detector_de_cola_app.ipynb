{
  "nbformat": 4,
  "nbformat_minor": 0,
  "metadata": {
    "language_info": {
      "codemirror_mode": {
        "name": "ipython",
        "version": 3
      },
      "file_extension": ".py",
      "mimetype": "text/x-python",
      "name": "python",
      "nbconvert_exporter": "python",
      "pygments_lexer": "ipython3",
      "version": "3.9.1-final"
    },
    "orig_nbformat": 2,
    "kernelspec": {
      "name": "python3",
      "display_name": "Python 3",
      "language": "python"
    },
    "colab": {
      "name": "detector_de_cola_app.ipynb",
      "provenance": [],
      "collapsed_sections": []
    }
  },
  "cells": [
    {
      "cell_type": "code",
      "metadata": {
        "id": "OzYzwgzL2KP2"
      },
      "source": [
        "from detector_de_cola import DetectorDeCola\n",
        "import numpy as np\n",
        "\n",
        "from IPython.display import clear_output, display\n",
        "import ipywidgets"
      ],
      "execution_count": 3,
      "outputs": []
    },
    {
      "cell_type": "code",
      "metadata": {
        "id": "JBazWmURLOyv"
      },
      "source": [
        "# dados falsos\n",
        "question_1_answer_list = [\n",
        "    'Napoleão morreu de ataque cardíaco em setembro, e por isso ele perdeu a guerra',\n",
        "    'Napoleão morreu de ataque cardíaco em setembro, e por isso ele perdeu a guerra',\n",
        "    'Napoles é uma cidade legal na itália onde napoleão passou férias',\n",
        "    'Napoles é uma cidade legal na itália onde napoleão passou férias',\n",
        "    'Napoleão morreu de infarto em setembro, e por isso ele ganhou a guerra',\n",
        "]\n",
        "question_2_answer_list = question_1_answer_list\n",
        "question_3_answer_list = question_1_answer_list\n",
        "question_4_answer_list = question_1_answer_list\n",
        "\n",
        "exam = [\n",
        "    question_1_answer_list,\n",
        "    question_2_answer_list,\n",
        "    question_3_answer_list,\n",
        "    question_4_answer_list,\n",
        "]"
      ],
      "execution_count": 4,
      "outputs": []
    },
    {
      "cell_type": "code",
      "metadata": {
        "id": "5jhJMI6Fi_xB"
      },
      "source": [
        "detector_de_cola = DetectorDeCola()"
      ],
      "execution_count": 5,
      "outputs": []
    },
    {
      "cell_type": "code",
      "metadata": {
        "id": "QqpCd9xxMCeu"
      },
      "source": [
        "# TODO(leommiranda): upload widget"
      ],
      "execution_count": 6,
      "outputs": []
    },
    {
      "cell_type": "code",
      "metadata": {
        "id": "g0rchLUY4dts"
      },
      "source": [
        "sim_matrix_list = np.asarray(\n",
        "    [detector_de_cola.predict_sim_matrix(answer_list)\n",
        "     for answer_list in exam]\n",
        ")"
      ],
      "execution_count": 7,
      "outputs": []
    },
    {
      "cell_type": "code",
      "metadata": {
        "id": "llyC3Lnn43ub"
      },
      "source": [
        "output = ipywidgets.Output()\n",
        "\n",
        "\n",
        "def plot_graph(unuseful_arg):\n",
        "    global output\n",
        "    threshold = threshold_slider.value\n",
        "    selected_questions = np.asarray(which_questions_widget.value)\n",
        "\n",
        "    mean_sim_matrix = np.mean(\n",
        "        np.take(\n",
        "            sim_matrix_list,\n",
        "            indices=selected_questions-1,\n",
        "            axis=0\n",
        "        ),\n",
        "        axis=0\n",
        "    )\n",
        "\n",
        "    closest_answers_graph = detector_de_cola.sim_matrix_to_closest_answers(\n",
        "        mean_sim_matrix, threshold\n",
        "    )\n",
        "\n",
        "    with output:\n",
        "        clear_output(True)\n",
        "        detector_de_cola.plot_closest_answers(\n",
        "            closest_answers_graph\n",
        "        )\n"
      ],
      "execution_count": 8,
      "outputs": []
    },
    {
      "cell_type": "code",
      "metadata": {
        "id": "FDc_Cn5bExME"
      },
      "source": [
        "# widgets\n",
        "which_questions = [i+1 for i in range(len(exam))]\n",
        "which_questions_widget = ipywidgets.SelectMultiple(\n",
        "    description='Which questions should be considered?',\n",
        "    options=which_questions,\n",
        "    value=which_questions,  # default value\n",
        "    disabled=False\n",
        ")\n",
        "\n",
        "threshold_slider = ipywidgets.FloatSlider(\n",
        "    description='Threshold',\n",
        "    value=0.5,  # default value\n",
        "    min=0, max=1, step=0.05\n",
        ")\n",
        "\n",
        "plot_graph_button = ipywidgets.Button(description=\"Plot the graph\")\n",
        "\n",
        "threshold_slider.observe(plot_graph, names='value')\n",
        "which_questions_widget.observe(plot_graph, names='value')\n",
        "\n",
        "display(threshold_slider)\n",
        "display(which_questions_widget)\n"
      ],
      "execution_count": null,
      "outputs": []
    },
    {
      "cell_type": "code",
      "metadata": {
        "id": "3DGKgpyXC0PR"
      },
      "source": [
        "display(output)\n",
        "\n",
        "# plot graph for the first time\n",
        "plot_graph(unuseful_arg=None)"
      ],
      "execution_count": null,
      "outputs": []
    },
    {
      "cell_type": "code",
      "metadata": {
        "id": "bNKl38Q6JKrc"
      },
      "source": [
        ""
      ],
      "execution_count": 10,
      "outputs": []
    }
  ]
}